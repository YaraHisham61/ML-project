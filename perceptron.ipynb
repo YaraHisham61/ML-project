{
 "cells": [
  {
   "cell_type": "code",
   "execution_count": 1,
   "id": "9396771f",
   "metadata": {},
   "outputs": [],
   "source": [
    "import numpy as np\n",
    "import pandas as pd\n",
    "import matplotlib.pyplot as plt\n",
    "import seaborn as sns\n",
    "\n",
    "from collections import Counter\n",
    "\n",
    "from sklearn.model_selection import train_test_split, GridSearchCV\n",
    "from sklearn.preprocessing import StandardScaler, MinMaxScaler, RobustScaler, OneHotEncoder\n",
    "from sklearn.pipeline import Pipeline\n",
    "from sklearn.linear_model import Perceptron, LogisticRegression\n",
    "from sklearn.feature_selection import SelectKBest, f_classif\n",
    "from sklearn.metrics import (\n",
    "    accuracy_score, f1_score, precision_score, recall_score,\n",
    "    classification_report, confusion_matrix, make_scorer\n",
    ")\n",
    "\n",
    "from imblearn.over_sampling import SMOTE\n",
    "from statsmodels.stats.outliers_influence import variance_inflation_factor\n"
   ]
  },
  {
   "cell_type": "markdown",
   "id": "28e76916",
   "metadata": {},
   "source": [
    "### Read Data"
   ]
  },
  {
   "cell_type": "code",
   "execution_count": 2,
   "id": "39a5d66d",
   "metadata": {},
   "outputs": [
    {
     "data": {
      "text/html": [
       "<div>\n",
       "<style scoped>\n",
       "    .dataframe tbody tr th:only-of-type {\n",
       "        vertical-align: middle;\n",
       "    }\n",
       "\n",
       "    .dataframe tbody tr th {\n",
       "        vertical-align: top;\n",
       "    }\n",
       "\n",
       "    .dataframe thead th {\n",
       "        text-align: right;\n",
       "    }\n",
       "</style>\n",
       "<table border=\"1\" class=\"dataframe\">\n",
       "  <thead>\n",
       "    <tr style=\"text-align: right;\">\n",
       "      <th></th>\n",
       "      <th>Diabetes_binary</th>\n",
       "      <th>HighBP</th>\n",
       "      <th>HighChol</th>\n",
       "      <th>CholCheck</th>\n",
       "      <th>BMI</th>\n",
       "      <th>Smoker</th>\n",
       "      <th>Stroke</th>\n",
       "      <th>HeartDiseaseorAttack</th>\n",
       "      <th>PhysActivity</th>\n",
       "      <th>Fruits</th>\n",
       "      <th>...</th>\n",
       "      <th>AnyHealthcare</th>\n",
       "      <th>NoDocbcCost</th>\n",
       "      <th>GenHlth</th>\n",
       "      <th>MentHlth</th>\n",
       "      <th>PhysHlth</th>\n",
       "      <th>DiffWalk</th>\n",
       "      <th>Sex</th>\n",
       "      <th>Age</th>\n",
       "      <th>Education</th>\n",
       "      <th>Income</th>\n",
       "    </tr>\n",
       "  </thead>\n",
       "  <tbody>\n",
       "    <tr>\n",
       "      <th>0</th>\n",
       "      <td>0.0</td>\n",
       "      <td>1.0</td>\n",
       "      <td>1.0</td>\n",
       "      <td>1.0</td>\n",
       "      <td>40.0</td>\n",
       "      <td>1.0</td>\n",
       "      <td>0.0</td>\n",
       "      <td>0.0</td>\n",
       "      <td>0.0</td>\n",
       "      <td>0.0</td>\n",
       "      <td>...</td>\n",
       "      <td>1.0</td>\n",
       "      <td>0.0</td>\n",
       "      <td>5.0</td>\n",
       "      <td>18.0</td>\n",
       "      <td>15.0</td>\n",
       "      <td>1.0</td>\n",
       "      <td>0.0</td>\n",
       "      <td>9.0</td>\n",
       "      <td>4.0</td>\n",
       "      <td>3.0</td>\n",
       "    </tr>\n",
       "    <tr>\n",
       "      <th>1</th>\n",
       "      <td>0.0</td>\n",
       "      <td>0.0</td>\n",
       "      <td>0.0</td>\n",
       "      <td>0.0</td>\n",
       "      <td>25.0</td>\n",
       "      <td>1.0</td>\n",
       "      <td>0.0</td>\n",
       "      <td>0.0</td>\n",
       "      <td>1.0</td>\n",
       "      <td>0.0</td>\n",
       "      <td>...</td>\n",
       "      <td>0.0</td>\n",
       "      <td>1.0</td>\n",
       "      <td>3.0</td>\n",
       "      <td>0.0</td>\n",
       "      <td>0.0</td>\n",
       "      <td>0.0</td>\n",
       "      <td>0.0</td>\n",
       "      <td>7.0</td>\n",
       "      <td>6.0</td>\n",
       "      <td>1.0</td>\n",
       "    </tr>\n",
       "    <tr>\n",
       "      <th>2</th>\n",
       "      <td>0.0</td>\n",
       "      <td>1.0</td>\n",
       "      <td>1.0</td>\n",
       "      <td>1.0</td>\n",
       "      <td>28.0</td>\n",
       "      <td>0.0</td>\n",
       "      <td>0.0</td>\n",
       "      <td>0.0</td>\n",
       "      <td>0.0</td>\n",
       "      <td>1.0</td>\n",
       "      <td>...</td>\n",
       "      <td>1.0</td>\n",
       "      <td>1.0</td>\n",
       "      <td>5.0</td>\n",
       "      <td>30.0</td>\n",
       "      <td>30.0</td>\n",
       "      <td>1.0</td>\n",
       "      <td>0.0</td>\n",
       "      <td>9.0</td>\n",
       "      <td>4.0</td>\n",
       "      <td>8.0</td>\n",
       "    </tr>\n",
       "    <tr>\n",
       "      <th>3</th>\n",
       "      <td>0.0</td>\n",
       "      <td>1.0</td>\n",
       "      <td>0.0</td>\n",
       "      <td>1.0</td>\n",
       "      <td>27.0</td>\n",
       "      <td>0.0</td>\n",
       "      <td>0.0</td>\n",
       "      <td>0.0</td>\n",
       "      <td>1.0</td>\n",
       "      <td>1.0</td>\n",
       "      <td>...</td>\n",
       "      <td>1.0</td>\n",
       "      <td>0.0</td>\n",
       "      <td>2.0</td>\n",
       "      <td>0.0</td>\n",
       "      <td>0.0</td>\n",
       "      <td>0.0</td>\n",
       "      <td>0.0</td>\n",
       "      <td>11.0</td>\n",
       "      <td>3.0</td>\n",
       "      <td>6.0</td>\n",
       "    </tr>\n",
       "    <tr>\n",
       "      <th>4</th>\n",
       "      <td>0.0</td>\n",
       "      <td>1.0</td>\n",
       "      <td>1.0</td>\n",
       "      <td>1.0</td>\n",
       "      <td>24.0</td>\n",
       "      <td>0.0</td>\n",
       "      <td>0.0</td>\n",
       "      <td>0.0</td>\n",
       "      <td>1.0</td>\n",
       "      <td>1.0</td>\n",
       "      <td>...</td>\n",
       "      <td>1.0</td>\n",
       "      <td>0.0</td>\n",
       "      <td>2.0</td>\n",
       "      <td>3.0</td>\n",
       "      <td>0.0</td>\n",
       "      <td>0.0</td>\n",
       "      <td>0.0</td>\n",
       "      <td>11.0</td>\n",
       "      <td>5.0</td>\n",
       "      <td>4.0</td>\n",
       "    </tr>\n",
       "  </tbody>\n",
       "</table>\n",
       "<p>5 rows × 22 columns</p>\n",
       "</div>"
      ],
      "text/plain": [
       "   Diabetes_binary  HighBP  HighChol  CholCheck   BMI  Smoker  Stroke  \\\n",
       "0              0.0     1.0       1.0        1.0  40.0     1.0     0.0   \n",
       "1              0.0     0.0       0.0        0.0  25.0     1.0     0.0   \n",
       "2              0.0     1.0       1.0        1.0  28.0     0.0     0.0   \n",
       "3              0.0     1.0       0.0        1.0  27.0     0.0     0.0   \n",
       "4              0.0     1.0       1.0        1.0  24.0     0.0     0.0   \n",
       "\n",
       "   HeartDiseaseorAttack  PhysActivity  Fruits  ...  AnyHealthcare  \\\n",
       "0                   0.0           0.0     0.0  ...            1.0   \n",
       "1                   0.0           1.0     0.0  ...            0.0   \n",
       "2                   0.0           0.0     1.0  ...            1.0   \n",
       "3                   0.0           1.0     1.0  ...            1.0   \n",
       "4                   0.0           1.0     1.0  ...            1.0   \n",
       "\n",
       "   NoDocbcCost  GenHlth  MentHlth  PhysHlth  DiffWalk  Sex   Age  Education  \\\n",
       "0          0.0      5.0      18.0      15.0       1.0  0.0   9.0        4.0   \n",
       "1          1.0      3.0       0.0       0.0       0.0  0.0   7.0        6.0   \n",
       "2          1.0      5.0      30.0      30.0       1.0  0.0   9.0        4.0   \n",
       "3          0.0      2.0       0.0       0.0       0.0  0.0  11.0        3.0   \n",
       "4          0.0      2.0       3.0       0.0       0.0  0.0  11.0        5.0   \n",
       "\n",
       "   Income  \n",
       "0     3.0  \n",
       "1     1.0  \n",
       "2     8.0  \n",
       "3     6.0  \n",
       "4     4.0  \n",
       "\n",
       "[5 rows x 22 columns]"
      ]
     },
     "execution_count": 2,
     "metadata": {},
     "output_type": "execute_result"
    }
   ],
   "source": [
    "diabetes = pd.read_csv(\"diabetes_binary_health_indicators_BRFSS2015.csv\")\n",
    "diabetes.head()"
   ]
  },
  {
   "cell_type": "markdown",
   "id": "1fc20020",
   "metadata": {},
   "source": [
    "### Remove Outliers"
   ]
  },
  {
   "cell_type": "code",
   "execution_count": 3,
   "id": "20cd076d",
   "metadata": {},
   "outputs": [],
   "source": [
    "def drop_outliers_iqr(df, column):\n",
    "    Q1 = df[column].quantile(0.25)\n",
    "    Q3 = df[column].quantile(0.75)\n",
    "    IQR = Q3 - Q1\n",
    "    \n",
    "    lower_bound = Q1 - 1.5 * IQR\n",
    "    upper_bound = Q3 + 1.5 * IQR\n",
    "    \n",
    "    df_cleaned = df[(df[column] >= lower_bound) & (df[column] <= upper_bound)]\n",
    "    return df_cleaned\n",
    "\n",
    "diabetes_cleaned = drop_outliers_iqr(diabetes, 'BMI')\n",
    "diabetes_cleaned = drop_outliers_iqr(diabetes_cleaned, 'GenHlth')"
   ]
  },
  {
   "cell_type": "markdown",
   "id": "ff61897a",
   "metadata": {},
   "source": [
    "### Remove Correlated Columns"
   ]
  },
  {
   "cell_type": "code",
   "execution_count": 41,
   "id": "aae736af",
   "metadata": {},
   "outputs": [
    {
     "name": "stdout",
     "output_type": "stream",
     "text": [
      "                 Feature        VIF\n",
      "0                 HighBP   2.195656\n",
      "1               HighChol   1.982777\n",
      "2              CholCheck  23.083016\n",
      "3                    BMI  27.334500\n",
      "4                 Smoker   1.891714\n",
      "5                 Stroke   1.099193\n",
      "6   HeartDiseaseorAttack   1.235291\n",
      "7           PhysActivity   4.983267\n",
      "8                 Fruits   3.089197\n",
      "9                Veggies   6.036738\n",
      "10     HvyAlcoholConsump   1.085847\n",
      "11         AnyHealthcare  21.665983\n",
      "12           NoDocbcCost   1.190272\n",
      "13               GenHlth  10.300190\n",
      "14              MentHlth   1.341179\n",
      "15              PhysHlth   1.574188\n",
      "16              DiffWalk   1.544783\n",
      "17                   Sex   1.948048\n",
      "18                   Age   9.819236\n",
      "19             Education  31.048162\n",
      "20                Income  15.146232\n"
     ]
    }
   ],
   "source": [
    "vif_data = pd.DataFrame()\n",
    "diabetes_copy = diabetes_cleaned.copy()\n",
    "diabetes_copy.drop(columns=['Diabetes_binary'], inplace=True)\n",
    "vif_data['Feature'] = diabetes_copy.columns\n",
    "vif_data['VIF'] = [variance_inflation_factor(diabetes_copy.values, i) for i in range(diabetes_copy.shape[1])]\n",
    "print(vif_data)"
   ]
  },
  {
   "cell_type": "code",
   "execution_count": 4,
   "id": "ef3c954f",
   "metadata": {},
   "outputs": [],
   "source": [
    "diabetes_cleaned = diabetes_cleaned.drop(columns=['CholCheck','AnyHealthcare','Education'])"
   ]
  },
  {
   "cell_type": "markdown",
   "id": "42a80e4a",
   "metadata": {},
   "source": [
    "### Split Data"
   ]
  },
  {
   "cell_type": "code",
   "execution_count": 5,
   "id": "a8ad3560",
   "metadata": {},
   "outputs": [],
   "source": [
    "\n",
    "x_train, x_test = train_test_split(diabetes_cleaned, test_size=0.20, random_state=42)\n",
    "x_test,y_test = x_test.drop(['Diabetes_binary'],axis=1),x_test['Diabetes_binary']\n",
    "x_train,y_train = x_train.drop(['Diabetes_binary'],axis=1),x_train['Diabetes_binary']\n"
   ]
  },
  {
   "cell_type": "markdown",
   "id": "d8439c5a",
   "metadata": {},
   "source": [
    "### Standardize Data"
   ]
  },
  {
   "cell_type": "code",
   "execution_count": 6,
   "id": "07989864",
   "metadata": {},
   "outputs": [],
   "source": [
    "# scaler = StandardScaler()\n",
    "# scaler = RobustScaler()\n",
    "scaler = StandardScaler()\n",
    "scaler.fit(x_train)\n",
    "x_train_scaler = scaler.transform(x_train)\n",
    "x_test_scaler = scaler.transform(x_test)"
   ]
  },
  {
   "cell_type": "markdown",
   "id": "293bc89a",
   "metadata": {},
   "source": [
    "### Search For Best Parameters Wit Cross-Validation with Smothing"
   ]
  },
  {
   "cell_type": "code",
   "execution_count": 7,
   "metadata": {},
   "outputs": [
    {
     "name": "stdout",
     "output_type": "stream",
     "text": [
      "Fitting 5 folds for each of 72 candidates, totalling 360 fits\n",
      "Best Parameters: {'alpha': 0.0001, 'class_weight': 'balanced', 'eta0': 0.1, 'penalty': 'l1'}\n",
      "\n",
      "Test Accuracy: 71.06%\n"
     ]
    }
   ],
   "source": [
    "smote = SMOTE(random_state=42)\n",
    "x_train_resampled, y_train_resampled = smote.fit_resample(x_train_scaler, y_train)\n",
    "\n",
    "\n",
    "recall_class1_scorer = make_scorer(\n",
    "    recall_score, \n",
    "    pos_label=1,\n",
    "    average='binary'\n",
    ")\n",
    "\n",
    "perceptron = Perceptron(random_state=42)\n",
    "\n",
    "param_grid = [\n",
    "    {\n",
    "        'penalty': ['l1', 'l2', 'elasticnet'],\n",
    "        'alpha': [0.0001, 0.001, 0.01, 0.1],\n",
    "        'eta0': [0.001, 0.01, 0.1],\n",
    "        'class_weight': ['balanced', None]\n",
    "    }\n",
    "]\n",
    "grid_search = GridSearchCV(\n",
    "    perceptron, \n",
    "    param_grid, \n",
    "    cv=5, \n",
    "    scoring=recall_class1_scorer,\n",
    "    n_jobs=-1,\n",
    "    verbose=1\n",
    ")\n",
    "\n",
    "grid_search.fit(x_train_resampled, y_train_resampled)\n",
    "\n",
    "best_model = grid_search.best_estimator_\n",
    "\n",
    "y_pred = best_model.predict(x_test_scaler)\n",
    "\n",
    "print(\"Best Parameters:\", grid_search.best_params_)\n",
    "print(\"\\nTest Accuracy: {:.2%}\".format(accuracy_score(y_test, y_pred)))\n"
   ]
  },
  {
   "cell_type": "markdown",
   "id": "5c5bc4c0",
   "metadata": {},
   "source": [
    "### TEST 1 USE Smothing"
   ]
  },
  {
   "cell_type": "code",
   "execution_count": null,
   "id": "614e9b9c",
   "metadata": {},
   "outputs": [
    {
     "name": "stdout",
     "output_type": "stream",
     "text": [
      "Training Accuracy: 70.77%\n",
      "Test Accuracy: 71.06%\n",
      "              precision    recall  f1-score   support\n",
      "\n",
      " No Diabetes       0.95      0.71      0.81     40903\n",
      "    Diabetes       0.25      0.70      0.37      5689\n",
      "\n",
      "    accuracy                           0.71     46592\n",
      "   macro avg       0.60      0.71      0.59     46592\n",
      "weighted avg       0.86      0.71      0.76     46592\n",
      "\n"
     ]
    }
   ],
   "source": [
    "\n",
    "smote = SMOTE(random_state=42)\n",
    "x_train_resampled, y_train_resampled = smote.fit_resample(x_train_scaler, y_train)\n",
    "\n",
    "model = Perceptron(\n",
    "    eta0=0.1,        \n",
    "    alpha=0.0001,\n",
    "    random_state=42,\n",
    "    class_weight='balanced',\n",
    "    penalty='l1'  \n",
    ")\n",
    "\n",
    "model.fit(x_train_resampled, y_train_resampled)\n",
    "\n",
    "y_train_pred = model.predict(x_train_resampled)\n",
    "y_test_pred = model.predict(x_test_scaler)\n",
    "\n",
    "train_accuracy = accuracy_score(y_train_resampled, y_train_pred) * 100\n",
    "test_accuracy = accuracy_score(y_test, y_test_pred) * 100\n",
    "\n",
    "print(f\"Training Accuracy: {train_accuracy:.2f}%\")\n",
    "print(f\"Test Accuracy: {test_accuracy:.2f}%\")\n",
    "print(classification_report(y_test, y_test_pred, target_names=['No Diabetes', 'Diabetes']))\n",
    "\n",
    "def plot_confusion_matrix(y_true, y_pred, title):\n",
    "    cm = confusion_matrix(y_true, y_pred)\n",
    "    plt.figure(figsize=(6,4))\n",
    "    sns.heatmap(cm, annot=True, fmt='d', cmap='Greens',\n",
    "                xticklabels=['No Diabetes', 'Diabetes'],\n",
    "                yticklabels=['No Diabetes', 'Diabetes'])\n",
    "    plt.title(title)\n",
    "    plt.ylabel('Actual')\n",
    "    plt.xlabel('Predicted')\n",
    "    plt.show()\n",
    "\n",
    "# plot_confusion_matrix(y_train_resampled, y_train_pred, \"Training Set Confusion Matrix\")\n",
    "# plot_confusion_matrix(y_test, y_test_pred, \"Test Set Confusion Matrix\")\n"
   ]
  },
  {
   "cell_type": "markdown",
   "id": "40806f31",
   "metadata": {},
   "source": [
    "### Search For Best Parameters Wit Cross-Validation "
   ]
  },
  {
   "cell_type": "code",
   "execution_count": 46,
   "id": "a7ff68b0",
   "metadata": {},
   "outputs": [
    {
     "name": "stdout",
     "output_type": "stream",
     "text": [
      "Fitting 5 folds for each of 72 candidates, totalling 360 fits\n",
      "Best Parameters: {'alpha': 0.001, 'class_weight': 'balanced', 'eta0': 0.1, 'penalty': 'l1'}\n",
      "\n",
      "Test Accuracy: 61.17%\n"
     ]
    }
   ],
   "source": [
    "recall_class1_scorer = make_scorer(\n",
    "    recall_score, \n",
    "    pos_label=1,\n",
    "    average='binary'\n",
    ")\n",
    "\n",
    "perceptron = Perceptron(random_state=42)\n",
    "\n",
    "param_grid = [\n",
    "    {\n",
    "        'penalty': ['l1', 'l2', 'elasticnet'],\n",
    "        'alpha': [0.0001, 0.001, 0.01, 0.1],\n",
    "        'eta0': [0.001, 0.01, 0.1],\n",
    "        'class_weight': ['balanced', None]\n",
    "    }\n",
    "]\n",
    "grid_search = GridSearchCV(\n",
    "    perceptron, \n",
    "    param_grid, \n",
    "    cv=5, \n",
    "    scoring=recall_class1_scorer,\n",
    "    n_jobs=-1,\n",
    "    verbose=1\n",
    ")\n",
    "\n",
    "grid_search.fit(x_train_scaler, y_train)\n",
    "\n",
    "best_model = grid_search.best_estimator_\n",
    "\n",
    "y_pred = best_model.predict(x_test_scaler)\n",
    "\n",
    "print(\"Best Parameters:\", grid_search.best_params_)\n",
    "print(\"\\nTest Accuracy: {:.2%}\".format(accuracy_score(y_test, y_pred)))\n"
   ]
  },
  {
   "cell_type": "markdown",
   "id": "acb851b0",
   "metadata": {},
   "source": [
    "### TEST 2 NOT USE Smothing"
   ]
  },
  {
   "cell_type": "code",
   "execution_count": 10,
   "id": "c0ec1c84",
   "metadata": {},
   "outputs": [
    {
     "name": "stdout",
     "output_type": "stream",
     "text": [
      "Training Accuracy: 61.29%\n",
      "Test Accuracy: 61.17%\n",
      "\n",
      "Classification Report (Test Set):\n",
      "              precision    recall  f1-score   support\n",
      "\n",
      " No Diabetes       0.97      0.58      0.72     40903\n",
      "    Diabetes       0.22      0.85      0.35      5689\n",
      "\n",
      "    accuracy                           0.61     46592\n",
      "   macro avg       0.59      0.72      0.54     46592\n",
      "weighted avg       0.88      0.61      0.68     46592\n",
      "\n"
     ]
    }
   ],
   "source": [
    "perceptron =  Perceptron(\n",
    "        random_state=42,\n",
    "        alpha=0.001,\n",
    "        penalty='l1',\n",
    "        eta0=0.1,\n",
    "        class_weight='balanced'\n",
    "        )\n",
    "\n",
    "perceptron.fit(x_train_scaler, y_train)\n",
    "\n",
    "y_train_pred = perceptron.predict(x_train_scaler)\n",
    "y_test_pred = perceptron.predict(x_test_scaler)\n",
    "\n",
    "train_accuracy = accuracy_score(y_train, y_train_pred) * 100\n",
    "test_accuracy = accuracy_score(y_test, y_test_pred) * 100\n",
    "\n",
    "print(f\"Training Accuracy: {train_accuracy:.2f}%\")\n",
    "print(f\"Test Accuracy: {test_accuracy:.2f}%\")\n",
    "\n",
    "def plot_confusion_matrix(y_true, y_pred, title):\n",
    "    cm = confusion_matrix(y_true, y_pred)\n",
    "    plt.figure(figsize=(6,4))\n",
    "    sns.heatmap(cm, annot=True, fmt='d', cmap='Blues', \n",
    "                xticklabels=['No Diabetes', 'Prediabetes', 'Diabetes'],\n",
    "                yticklabels=['No Diabetes', 'Prediabetes', 'Diabetes'])\n",
    "    plt.title(title)\n",
    "    plt.ylabel('Actual')\n",
    "    plt.xlabel('Predicted')\n",
    "    plt.show()\n",
    "\n",
    "# plot_confusion_matrix(y_train, y_train_pred, \"Training Set Confusion Matrix\")\n",
    "# plot_confusion_matrix(y_test, y_test_pred, \"Test Set Confusion Matrix\")\n",
    "\n",
    "print(\"\\nClassification Report (Test Set):\")\n",
    "print(classification_report(y_test, y_test_pred,target_names=['No Diabetes', 'Diabetes']))"
   ]
  },
  {
   "cell_type": "markdown",
   "id": "fc99b704",
   "metadata": {},
   "source": [
    "### Test 3 Change Threshold"
   ]
  },
  {
   "cell_type": "code",
   "execution_count": 14,
   "id": "d0ff4f48",
   "metadata": {},
   "outputs": [
    {
     "name": "stdout",
     "output_type": "stream",
     "text": [
      "Training Accuracy with Threshold 0.1: 62.79%\n",
      "Test Accuracy with Threshold 0.1: 62.78%\n",
      "\n",
      "Classification Report (Test Set) with Threshold = 0.1\n",
      "              precision    recall  f1-score   support\n",
      "\n",
      " No Diabetes       0.96      0.60      0.74     40903\n",
      "    Diabetes       0.23      0.84      0.36      5689\n",
      "\n",
      "    accuracy                           0.63     46592\n",
      "   macro avg       0.59      0.72      0.55     46592\n",
      "weighted avg       0.87      0.63      0.69     46592\n",
      "\n"
     ]
    }
   ],
   "source": [
    "y_train_scores = perceptron.decision_function(x_train_scaler)\n",
    "y_test_scores = perceptron.decision_function(x_test_scaler)\n",
    "\n",
    "# Apply threshold\n",
    "threshold = 0.1\n",
    "y_train_pred = (y_train_scores >= threshold).astype(int)\n",
    "y_test_pred = (y_test_scores >= threshold).astype(int)\n",
    "\n",
    "train_accuracy = accuracy_score(y_train, y_train_pred) * 100\n",
    "test_accuracy = accuracy_score(y_test, y_test_pred) * 100\n",
    "\n",
    "print(f\"Training Accuracy with Threshold {threshold}: {train_accuracy:.2f}%\")\n",
    "print(f\"Test Accuracy with Threshold {threshold}: {test_accuracy:.2f}%\")\n",
    "\n",
    "print(\"\\nClassification Report (Test Set) with Threshold =\", threshold)\n",
    "print(classification_report(y_test, y_test_pred, target_names=['No Diabetes', 'Diabetes']))\n"
   ]
  },
  {
   "cell_type": "markdown",
   "id": "d28f52fd",
   "metadata": {},
   "source": [
    "### Test 4 Get the top 10 Features"
   ]
  },
  {
   "cell_type": "code",
   "execution_count": 49,
   "id": "bf869d34",
   "metadata": {},
   "outputs": [
    {
     "name": "stdout",
     "output_type": "stream",
     "text": [
      "Best features: Index(['HighBP', 'HighChol', 'BMI', 'HeartDiseaseorAttack', 'PhysActivity',\n",
      "       'GenHlth', 'PhysHlth', 'DiffWalk', 'Age', 'Income'],\n",
      "      dtype='object')\n"
     ]
    }
   ],
   "source": [
    "\n",
    "selector = SelectKBest(f_classif, k=10)\n",
    "X_new = selector.fit_transform(x_train, y_train)\n",
    "\n",
    "selected_features = x_train.columns[selector.get_support()]\n",
    "print(\"Best features:\", selected_features)"
   ]
  },
  {
   "cell_type": "code",
   "execution_count": 50,
   "id": "125c866e",
   "metadata": {},
   "outputs": [
    {
     "name": "stdout",
     "output_type": "stream",
     "text": [
      "Training Accuracy: 67.74%\n",
      "Test Accuracy: 67.83%\n",
      "              precision    recall  f1-score   support\n",
      "\n",
      " No Diabetes       0.95      0.67      0.78     40903\n",
      "    Diabetes       0.24      0.77      0.37      5689\n",
      "\n",
      "    accuracy                           0.68     46592\n",
      "   macro avg       0.60      0.72      0.58     46592\n",
      "weighted avg       0.87      0.68      0.73     46592\n",
      "\n"
     ]
    }
   ],
   "source": [
    "\n",
    "X_train_selected = selector.transform(x_train)\n",
    "X_test_selected = selector.transform(x_test)\n",
    "scaler = StandardScaler()\n",
    "scaler.fit(X_train_selected)\n",
    "x_train_scaler = scaler.transform(X_train_selected)\n",
    "x_test_scaler = scaler.transform(X_test_selected)\n",
    "\n",
    "model_selected_features = Perceptron(random_state=42,\n",
    "        alpha=0.001,\n",
    "        penalty='l2',\n",
    "        eta0=0.1,\n",
    "        class_weight='balanced')\n",
    "\n",
    "model_selected_features.fit(x_train_scaler, y_train)\n",
    "\n",
    "y_train_pred = model_selected_features.predict(x_train_scaler)\n",
    "y_test_pred = model_selected_features.predict(x_test_scaler)\n",
    "\n",
    "train_accuracy = accuracy_score(y_train, y_train_pred) * 100\n",
    "test_accuracy = accuracy_score(y_test, y_test_pred) * 100\n",
    "\n",
    "print(f\"Training Accuracy: {train_accuracy:.2f}%\")\n",
    "print(f\"Test Accuracy: {test_accuracy:.2f}%\")\n",
    "print(classification_report(y_test, y_test_pred, target_names=['No Diabetes', 'Diabetes']))\n"
   ]
  }
 ],
 "metadata": {
  "kernelspec": {
   "display_name": "myenv",
   "language": "python",
   "name": "python3"
  },
  "language_info": {
   "codemirror_mode": {
    "name": "ipython",
    "version": 3
   },
   "file_extension": ".py",
   "mimetype": "text/x-python",
   "name": "python",
   "nbconvert_exporter": "python",
   "pygments_lexer": "ipython3",
   "version": "3.10.16"
  }
 },
 "nbformat": 4,
 "nbformat_minor": 5
}
