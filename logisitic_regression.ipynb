{
 "cells": [
  {
   "cell_type": "code",
   "execution_count": 1,
   "id": "3925213a",
   "metadata": {},
   "outputs": [],
   "source": [
    "import numpy as np\n",
    "import pandas as pd\n",
    "import matplotlib.pyplot as plt\n",
    "import seaborn as sns\n",
    "from sklearn.model_selection import train_test_split\n",
    "from sklearn.linear_model import LogisticRegression\n",
    "from sklearn.model_selection import GridSearchCV\n",
    "from sklearn.preprocessing import OneHotEncoder , StandardScaler , MinMaxScaler , RobustScaler\n",
    "from sklearn.metrics import accuracy_score\n",
    "from sklearn.metrics import f1_score,accuracy_score\n",
    "from sklearn.metrics import classification_report\n",
    "from sklearn.feature_selection import SelectKBest, f_classif\n",
    "from sklearn.metrics import confusion_matrix\n",
    "from sklearn.pipeline import Pipeline\n",
    "from collections import Counter\n",
    "from statsmodels.stats.outliers_influence import variance_inflation_factor\n",
    "from sklearn.feature_selection import SelectKBest, f_classif\n",
    "from imblearn.over_sampling import SMOTE\n",
    "from sklearn.linear_model import LogisticRegression\n",
    "from sklearn.model_selection import GridSearchCV\n",
    "from sklearn.metrics import make_scorer, precision_score, classification_report\n",
    "from sklearn.metrics import recall_score\n",
    "\n"
   ]
  },
  {
   "cell_type": "markdown",
   "id": "d5a0e34a",
   "metadata": {},
   "source": [
    "### Read Data"
   ]
  },
  {
   "cell_type": "code",
   "execution_count": 2,
   "id": "0d43706b",
   "metadata": {},
   "outputs": [
    {
     "data": {
      "text/html": [
       "<div>\n",
       "<style scoped>\n",
       "    .dataframe tbody tr th:only-of-type {\n",
       "        vertical-align: middle;\n",
       "    }\n",
       "\n",
       "    .dataframe tbody tr th {\n",
       "        vertical-align: top;\n",
       "    }\n",
       "\n",
       "    .dataframe thead th {\n",
       "        text-align: right;\n",
       "    }\n",
       "</style>\n",
       "<table border=\"1\" class=\"dataframe\">\n",
       "  <thead>\n",
       "    <tr style=\"text-align: right;\">\n",
       "      <th></th>\n",
       "      <th>Diabetes_binary</th>\n",
       "      <th>HighBP</th>\n",
       "      <th>HighChol</th>\n",
       "      <th>CholCheck</th>\n",
       "      <th>BMI</th>\n",
       "      <th>Smoker</th>\n",
       "      <th>Stroke</th>\n",
       "      <th>HeartDiseaseorAttack</th>\n",
       "      <th>PhysActivity</th>\n",
       "      <th>Fruits</th>\n",
       "      <th>...</th>\n",
       "      <th>AnyHealthcare</th>\n",
       "      <th>NoDocbcCost</th>\n",
       "      <th>GenHlth</th>\n",
       "      <th>MentHlth</th>\n",
       "      <th>PhysHlth</th>\n",
       "      <th>DiffWalk</th>\n",
       "      <th>Sex</th>\n",
       "      <th>Age</th>\n",
       "      <th>Education</th>\n",
       "      <th>Income</th>\n",
       "    </tr>\n",
       "  </thead>\n",
       "  <tbody>\n",
       "    <tr>\n",
       "      <th>0</th>\n",
       "      <td>0.0</td>\n",
       "      <td>1.0</td>\n",
       "      <td>1.0</td>\n",
       "      <td>1.0</td>\n",
       "      <td>40.0</td>\n",
       "      <td>1.0</td>\n",
       "      <td>0.0</td>\n",
       "      <td>0.0</td>\n",
       "      <td>0.0</td>\n",
       "      <td>0.0</td>\n",
       "      <td>...</td>\n",
       "      <td>1.0</td>\n",
       "      <td>0.0</td>\n",
       "      <td>5.0</td>\n",
       "      <td>18.0</td>\n",
       "      <td>15.0</td>\n",
       "      <td>1.0</td>\n",
       "      <td>0.0</td>\n",
       "      <td>9.0</td>\n",
       "      <td>4.0</td>\n",
       "      <td>3.0</td>\n",
       "    </tr>\n",
       "    <tr>\n",
       "      <th>1</th>\n",
       "      <td>0.0</td>\n",
       "      <td>0.0</td>\n",
       "      <td>0.0</td>\n",
       "      <td>0.0</td>\n",
       "      <td>25.0</td>\n",
       "      <td>1.0</td>\n",
       "      <td>0.0</td>\n",
       "      <td>0.0</td>\n",
       "      <td>1.0</td>\n",
       "      <td>0.0</td>\n",
       "      <td>...</td>\n",
       "      <td>0.0</td>\n",
       "      <td>1.0</td>\n",
       "      <td>3.0</td>\n",
       "      <td>0.0</td>\n",
       "      <td>0.0</td>\n",
       "      <td>0.0</td>\n",
       "      <td>0.0</td>\n",
       "      <td>7.0</td>\n",
       "      <td>6.0</td>\n",
       "      <td>1.0</td>\n",
       "    </tr>\n",
       "    <tr>\n",
       "      <th>2</th>\n",
       "      <td>0.0</td>\n",
       "      <td>1.0</td>\n",
       "      <td>1.0</td>\n",
       "      <td>1.0</td>\n",
       "      <td>28.0</td>\n",
       "      <td>0.0</td>\n",
       "      <td>0.0</td>\n",
       "      <td>0.0</td>\n",
       "      <td>0.0</td>\n",
       "      <td>1.0</td>\n",
       "      <td>...</td>\n",
       "      <td>1.0</td>\n",
       "      <td>1.0</td>\n",
       "      <td>5.0</td>\n",
       "      <td>30.0</td>\n",
       "      <td>30.0</td>\n",
       "      <td>1.0</td>\n",
       "      <td>0.0</td>\n",
       "      <td>9.0</td>\n",
       "      <td>4.0</td>\n",
       "      <td>8.0</td>\n",
       "    </tr>\n",
       "    <tr>\n",
       "      <th>3</th>\n",
       "      <td>0.0</td>\n",
       "      <td>1.0</td>\n",
       "      <td>0.0</td>\n",
       "      <td>1.0</td>\n",
       "      <td>27.0</td>\n",
       "      <td>0.0</td>\n",
       "      <td>0.0</td>\n",
       "      <td>0.0</td>\n",
       "      <td>1.0</td>\n",
       "      <td>1.0</td>\n",
       "      <td>...</td>\n",
       "      <td>1.0</td>\n",
       "      <td>0.0</td>\n",
       "      <td>2.0</td>\n",
       "      <td>0.0</td>\n",
       "      <td>0.0</td>\n",
       "      <td>0.0</td>\n",
       "      <td>0.0</td>\n",
       "      <td>11.0</td>\n",
       "      <td>3.0</td>\n",
       "      <td>6.0</td>\n",
       "    </tr>\n",
       "    <tr>\n",
       "      <th>4</th>\n",
       "      <td>0.0</td>\n",
       "      <td>1.0</td>\n",
       "      <td>1.0</td>\n",
       "      <td>1.0</td>\n",
       "      <td>24.0</td>\n",
       "      <td>0.0</td>\n",
       "      <td>0.0</td>\n",
       "      <td>0.0</td>\n",
       "      <td>1.0</td>\n",
       "      <td>1.0</td>\n",
       "      <td>...</td>\n",
       "      <td>1.0</td>\n",
       "      <td>0.0</td>\n",
       "      <td>2.0</td>\n",
       "      <td>3.0</td>\n",
       "      <td>0.0</td>\n",
       "      <td>0.0</td>\n",
       "      <td>0.0</td>\n",
       "      <td>11.0</td>\n",
       "      <td>5.0</td>\n",
       "      <td>4.0</td>\n",
       "    </tr>\n",
       "  </tbody>\n",
       "</table>\n",
       "<p>5 rows × 22 columns</p>\n",
       "</div>"
      ],
      "text/plain": [
       "   Diabetes_binary  HighBP  HighChol  CholCheck   BMI  Smoker  Stroke  \\\n",
       "0              0.0     1.0       1.0        1.0  40.0     1.0     0.0   \n",
       "1              0.0     0.0       0.0        0.0  25.0     1.0     0.0   \n",
       "2              0.0     1.0       1.0        1.0  28.0     0.0     0.0   \n",
       "3              0.0     1.0       0.0        1.0  27.0     0.0     0.0   \n",
       "4              0.0     1.0       1.0        1.0  24.0     0.0     0.0   \n",
       "\n",
       "   HeartDiseaseorAttack  PhysActivity  Fruits  ...  AnyHealthcare  \\\n",
       "0                   0.0           0.0     0.0  ...            1.0   \n",
       "1                   0.0           1.0     0.0  ...            0.0   \n",
       "2                   0.0           0.0     1.0  ...            1.0   \n",
       "3                   0.0           1.0     1.0  ...            1.0   \n",
       "4                   0.0           1.0     1.0  ...            1.0   \n",
       "\n",
       "   NoDocbcCost  GenHlth  MentHlth  PhysHlth  DiffWalk  Sex   Age  Education  \\\n",
       "0          0.0      5.0      18.0      15.0       1.0  0.0   9.0        4.0   \n",
       "1          1.0      3.0       0.0       0.0       0.0  0.0   7.0        6.0   \n",
       "2          1.0      5.0      30.0      30.0       1.0  0.0   9.0        4.0   \n",
       "3          0.0      2.0       0.0       0.0       0.0  0.0  11.0        3.0   \n",
       "4          0.0      2.0       3.0       0.0       0.0  0.0  11.0        5.0   \n",
       "\n",
       "   Income  \n",
       "0     3.0  \n",
       "1     1.0  \n",
       "2     8.0  \n",
       "3     6.0  \n",
       "4     4.0  \n",
       "\n",
       "[5 rows x 22 columns]"
      ]
     },
     "execution_count": 2,
     "metadata": {},
     "output_type": "execute_result"
    }
   ],
   "source": [
    "\n",
    "diabetes = pd.read_csv(\"diabetes_binary_health_indicators_BRFSS2015.csv\")\n",
    "diabetes.head()"
   ]
  },
  {
   "cell_type": "markdown",
   "id": "5d38e67c",
   "metadata": {},
   "source": [
    "### Remove Outliers"
   ]
  },
  {
   "cell_type": "code",
   "execution_count": 3,
   "id": "d8c25550",
   "metadata": {},
   "outputs": [],
   "source": [
    "def drop_outliers_iqr(df, column):\n",
    "    Q1 = df[column].quantile(0.25)\n",
    "    Q3 = df[column].quantile(0.75)\n",
    "    IQR = Q3 - Q1\n",
    "    \n",
    "    lower_bound = Q1 - 1.5 * IQR\n",
    "    upper_bound = Q3 + 1.5 * IQR\n",
    "    \n",
    "    df_cleaned = df[(df[column] >= lower_bound) & (df[column] <= upper_bound)]\n",
    "    return df_cleaned\n",
    "\n",
    "diabetes_cleaned = drop_outliers_iqr(diabetes, 'BMI')\n",
    "diabetes_cleaned = drop_outliers_iqr(diabetes_cleaned, 'GenHlth')"
   ]
  },
  {
   "cell_type": "markdown",
   "id": "45da9673",
   "metadata": {},
   "source": [
    "### Split Data"
   ]
  },
  {
   "cell_type": "code",
   "execution_count": 4,
   "id": "7db0899a",
   "metadata": {},
   "outputs": [],
   "source": [
    "\n",
    "x_train, x_test = train_test_split(diabetes_cleaned, test_size=0.20, random_state=42)\n",
    "x_test,y_test = x_test.drop(['Diabetes_binary'],axis=1),x_test['Diabetes_binary']\n",
    "x_train,y_train = x_train.drop(['Diabetes_binary'],axis=1),x_train['Diabetes_binary']\n"
   ]
  },
  {
   "cell_type": "markdown",
   "id": "bd0eae1b",
   "metadata": {},
   "source": [
    "### Standardize Data"
   ]
  },
  {
   "cell_type": "code",
   "execution_count": 5,
   "id": "61b88903",
   "metadata": {},
   "outputs": [],
   "source": [
    "# scaler = StandardScaler()\n",
    "# scaler = RobustScaler()\n",
    "scaler = StandardScaler()\n",
    "\n",
    "scaler.fit(x_train)\n",
    "x_train_scaler = scaler.transform(x_train)\n",
    "x_test_scaler = scaler.transform(x_test)"
   ]
  },
  {
   "cell_type": "markdown",
   "id": "c5768d84",
   "metadata": {},
   "source": [
    "### Search For Best Parameters Wit Cross-Validation with Smothing"
   ]
  },
  {
   "cell_type": "code",
   "execution_count": 6,
   "id": "83c666b9",
   "metadata": {},
   "outputs": [
    {
     "name": "stdout",
     "output_type": "stream",
     "text": [
      "Fitting 5 folds for each of 72 candidates, totalling 360 fits\n",
      "Best Parameters: {'C': 0.0001, 'class_weight': {0: 1, 1: 6}, 'penalty': 'l1', 'solver': 'saga'}\n",
      "\n",
      "Test Accuracy: 36.25%\n"
     ]
    }
   ],
   "source": [
    "\n",
    "smote = SMOTE(random_state=42)\n",
    "x_train_resampled, y_train_resampled = smote.fit_resample(x_train_scaler, y_train)\n",
    "\n",
    "recall_class1_scorer = make_scorer(\n",
    "    recall_score, \n",
    "    pos_label=1,\n",
    "    average='binary'\n",
    ")\n",
    "\n",
    "logistic = LogisticRegression(random_state=42)\n",
    "\n",
    "param_grid = [\n",
    "    {\n",
    "        'penalty': ['l1', 'l2'],\n",
    "        'C': [0.0001, 0.001, 0.01, 0.1, 1.0, 10.0],\n",
    "        'solver': ['liblinear', 'saga']\n",
    "    },\n",
    "    {\n",
    "        'penalty': ['l2', 'l1'],\n",
    "        'C': [0.0001, 0.001, 0.01, 0.1, 1.0, 10.0],\n",
    "        'class_weight': ['balanced', {0:1, 1:6}], \n",
    "        'solver': ['liblinear', 'saga']\n",
    "    }\n",
    "]\n",
    "\n",
    "grid_search = GridSearchCV(\n",
    "    logistic, \n",
    "    param_grid, \n",
    "    cv=5, \n",
    "    scoring=recall_class1_scorer,\n",
    "    n_jobs=-1,\n",
    "    verbose=1\n",
    ")\n",
    "grid_search.fit(x_train_resampled, y_train_resampled)\n",
    "\n",
    "best_model = grid_search.best_estimator_\n",
    "y_pred = best_model.predict(x_test_scaler)\n",
    "\n",
    "print(\"Best Parameters:\", grid_search.best_params_)\n",
    "print(\"\\nTest Accuracy: {:.2%}\".format(accuracy_score(y_test, y_pred)))\n"
   ]
  },
  {
   "cell_type": "markdown",
   "id": "3a1e2383",
   "metadata": {},
   "source": [
    "### TEST 1 USE Smothing"
   ]
  },
  {
   "cell_type": "code",
   "execution_count": 14,
   "id": "63299ef0",
   "metadata": {},
   "outputs": [
    {
     "name": "stdout",
     "output_type": "stream",
     "text": [
      "Training Accuracy: 73.98%\n",
      "Test Accuracy: 71.63%\n",
      "              precision    recall  f1-score   support\n",
      "\n",
      " No Diabetes       0.96      0.71      0.81     40903\n",
      "    Diabetes       0.27      0.78      0.40      5689\n",
      "\n",
      "    accuracy                           0.72     46592\n",
      "   macro avg       0.61      0.74      0.61     46592\n",
      "weighted avg       0.87      0.72      0.76     46592\n",
      "\n"
     ]
    },
    {
     "data": {
      "image/png": "[encoded data removed]",
      "text/plain": [
       "<Figure size 600x400 with 2 Axes>"
      ]
     },
     "metadata": {},
     "output_type": "display_data"
    },
    {
     "data": {
      "image/png": "[encoded data removed]",
      "text/plain": [
       "<Figure size 600x400 with 2 Axes>"
      ]
     },
     "metadata": {},
     "output_type": "display_data"
    }
   ],
   "source": [
    "smote = SMOTE(random_state=42)\n",
    "x_train_resampled, y_train_resampled = smote.fit_resample(x_train_scaler, y_train)\n",
    "\n",
    "model = LogisticRegression(\n",
    "C=0.0001, penalty='l1', solver='saga',class_weight=\"balanced\",\n",
    ")\n",
    "\n",
    "model.fit(x_train_resampled, y_train_resampled)\n",
    "\n",
    "y_train_pred = model.predict(x_train_resampled)\n",
    "y_test_pred = model.predict(x_test_scaler)\n",
    "\n",
    "train_accuracy = accuracy_score(y_train_resampled, y_train_pred) * 100\n",
    "test_accuracy = accuracy_score(y_test, y_test_pred) * 100\n",
    "\n",
    "print(f\"Training Accuracy: {train_accuracy:.2f}%\")\n",
    "print(f\"Test Accuracy: {test_accuracy:.2f}%\")\n",
    "\n",
    "print(classification_report(y_test, y_test_pred, target_names=['No Diabetes', 'Diabetes']))\n",
    "\n",
    "def plot_confusion_matrix(y_true, y_pred, title):\n",
    "    cm = confusion_matrix(y_true, y_pred)\n",
    "    plt.figure(figsize=(6,4))\n",
    "    sns.heatmap(cm, annot=True, fmt='d', cmap='Blues', \n",
    "                xticklabels=['No Diabetes', 'Diabetes'],\n",
    "                yticklabels=['No Diabetes', 'Diabetes'])\n",
    "    plt.title(title)\n",
    "    plt.ylabel('Actual')\n",
    "    plt.xlabel('Predicted')\n",
    "    plt.show()\n",
    "\n",
    "plot_confusion_matrix(y_train_resampled, y_train_pred, \"Training Set Confusion Matrix\")\n",
    "plot_confusion_matrix(y_test, y_test_pred, \"Test Set Confusion Matrix\")\n"
   ]
  },
  {
   "cell_type": "markdown",
   "id": "9510522e",
   "metadata": {},
   "source": [
    "### Search For Best Parameters With Cross-Validation focus on Recall in Class 1"
   ]
  },
  {
   "cell_type": "code",
   "execution_count": 15,
   "id": "bfbf220d",
   "metadata": {},
   "outputs": [
    {
     "name": "stdout",
     "output_type": "stream",
     "text": [
      "Fitting 5 folds for each of 72 candidates, totalling 360 fits\n",
      "Best Parameters: {'C': 0.0001, 'class_weight': 'balanced', 'penalty': 'l1', 'solver': 'liblinear'}\n",
      "\n",
      "Test Accuracy: 62.16%\n"
     ]
    }
   ],
   "source": [
    "recall_class1_scorer = make_scorer(\n",
    "    recall_score, \n",
    "    pos_label=1,\n",
    "    average='binary'\n",
    ")\n",
    "\n",
    "logistic = LogisticRegression(random_state=42)\n",
    "\n",
    "param_grid = [\n",
    "    {\n",
    "        'penalty': ['l1', 'l2'],\n",
    "        'C': [0.0001, 0.001, 0.01, 0.1, 1.0, 10.0],\n",
    "        'solver': ['liblinear', 'saga']\n",
    "    },\n",
    "    {\n",
    "        'penalty': ['l2', 'l1'],\n",
    "        'C': [0.0001, 0.001, 0.01, 0.1, 1.0, 10.0],\n",
    "        'class_weight': ['balanced', {0:1, 1:6}], \n",
    "        'solver': ['liblinear', 'saga']\n",
    "    }\n",
    "]\n",
    "\n",
    "grid_search = GridSearchCV(\n",
    "    logistic, \n",
    "    param_grid, \n",
    "    cv=5, \n",
    "    scoring=recall_class1_scorer,\n",
    "    n_jobs=-1,\n",
    "    verbose=1\n",
    ")\n",
    "grid_search.fit(x_train_scaler, y_train)\n",
    "\n",
    "best_model = grid_search.best_estimator_\n",
    "\n",
    "y_pred = best_model.predict(x_test_scaler)\n",
    "\n",
    "print(\"Best Parameters:\", grid_search.best_params_)\n",
    "print(\"\\nTest Accuracy: {:.2%}\".format(accuracy_score(y_test, y_pred)))\n"
   ]
  },
  {
   "cell_type": "markdown",
   "id": "9b3b5564",
   "metadata": {},
   "source": [
    "### TEST 2 NOT USE Smothing Focus on Recall"
   ]
  },
  {
   "cell_type": "code",
   "execution_count": 9,
   "id": "ea55e4e3",
   "metadata": {},
   "outputs": [
    {
     "name": "stdout",
     "output_type": "stream",
     "text": [
      "Training Accuracy: 62.27%\n",
      "Test Accuracy: 62.16%\n",
      "\n",
      "Classification Report (Test Set):\n",
      "              precision    recall  f1-score   support\n",
      "\n",
      " No Diabetes       0.97      0.59      0.73     40903\n",
      "    Diabetes       0.23      0.87      0.36      5689\n",
      "\n",
      "    accuracy                           0.62     46592\n",
      "   macro avg       0.60      0.73      0.55     46592\n",
      "weighted avg       0.88      0.62      0.69     46592\n",
      "\n"
     ]
    }
   ],
   "source": [
    "model_all_features = LogisticRegression(C=0.0001, penalty='l1', solver='liblinear',class_weight='balanced')\n",
    "\n",
    "model_all_features.fit(x_train_scaler, y_train)\n",
    "\n",
    "y_train_pred = model_all_features.predict(x_train_scaler)\n",
    "y_test_pred = model_all_features.predict(x_test_scaler)\n",
    "\n",
    "train_accuracy = accuracy_score(y_train, y_train_pred) * 100\n",
    "test_accuracy = accuracy_score(y_test, y_test_pred) * 100\n",
    "\n",
    "print(f\"Training Accuracy: {train_accuracy:.2f}%\")\n",
    "print(f\"Test Accuracy: {test_accuracy:.2f}%\")\n",
    "\n",
    "def plot_confusion_matrix(y_true, y_pred, title):\n",
    "    cm = confusion_matrix(y_true, y_pred)\n",
    "    plt.figure(figsize=(6,4))\n",
    "    sns.heatmap(cm, annot=True, fmt='d', cmap='Blues', \n",
    "                xticklabels=['No Diabetes', 'Diabetes'],\n",
    "                yticklabels=['No Diabetes', 'Diabetes'])\n",
    "    plt.title(title)\n",
    "    plt.ylabel('Actual')\n",
    "    plt.xlabel('Predicted')\n",
    "    plt.show()\n",
    "\n",
    "# plot_confusion_matrix(y_train, y_train_pred, \"Training Set Confusion Matrix\")\n",
    "# plot_confusion_matrix(y_test, y_test_pred, \"Test Set Confusion Matrix\")\n",
    "\n",
    "print(\"\\nClassification Report (Test Set):\")\n",
    "print(classification_report(y_test, y_test_pred,target_names=['No Diabetes','Diabetes']))"
   ]
  },
  {
   "cell_type": "markdown",
   "id": "dfc7001c",
   "metadata": {},
   "source": [
    "### Test 3 Change Threshold"
   ]
  },
  {
   "cell_type": "code",
   "execution_count": 10,
   "metadata": {},
   "outputs": [
    {
     "name": "stdout",
     "output_type": "stream",
     "text": [
      "Training Accuracy with Threshold 0.4: 45.02%\n",
      "Test Accuracy with Threshold 0.4: 44.87%\n",
      "\n",
      "Classification Report (Test Set) with Threshold = 0.4\n",
      "              precision    recall  f1-score   support\n",
      "\n",
      " No Diabetes       0.99      0.38      0.55     40903\n",
      "    Diabetes       0.18      0.96      0.30      5689\n",
      "\n",
      "    accuracy                           0.45     46592\n",
      "   macro avg       0.58      0.67      0.42     46592\n",
      "weighted avg       0.89      0.45      0.52     46592\n",
      "\n"
     ]
    }
   ],
   "source": [
    "y_probs = model_all_features.predict_proba(x_test_scaler)[:, 1]\n",
    "y_train_probs = model_all_features.predict_proba(x_train_scaler)[:, 1]\n",
    "\n",
    "threshold = 0.4\n",
    "y_train_pred = (y_train_probs >= threshold).astype(int)\n",
    "y_test_pred = (y_probs >= threshold).astype(int)\n",
    "\n",
    "\n",
    "train_accuracy = accuracy_score(y_train, y_train_pred) * 100\n",
    "test_accuracy = accuracy_score(y_test, y_test_pred) * 100\n",
    "\n",
    "print(f\"Training Accuracy with Threshold {threshold}: {train_accuracy:.2f}%\")\n",
    "print(f\"Test Accuracy with Threshold {threshold}: {test_accuracy:.2f}%\")\n",
    "\n",
    "print(\"\\nClassification Report (Test Set) with Threshold =\", threshold)\n",
    "print(classification_report(y_test, y_test_pred, target_names=['No Diabetes', 'Diabetes']))"
   ]
  },
  {
   "cell_type": "markdown",
   "id": "361e98c1",
   "metadata": {},
   "source": [
    "### Test 4 Get the top 10 Features"
   ]
  },
  {
   "cell_type": "code",
   "execution_count": 11,
   "id": "755481c4",
   "metadata": {},
   "outputs": [
    {
     "name": "stdout",
     "output_type": "stream",
     "text": [
      "Best features: Index(['HighBP', 'HighChol', 'BMI', 'HeartDiseaseorAttack', 'GenHlth',\n",
      "       'PhysHlth', 'DiffWalk', 'Age', 'Education', 'Income'],\n",
      "      dtype='object')\n"
     ]
    }
   ],
   "source": [
    "\n",
    "selector = SelectKBest(f_classif, k=10)\n",
    "X_new = selector.fit_transform(x_train, y_train)\n",
    "\n",
    "selected_features = x_train.columns[selector.get_support()]\n",
    "print(\"Best features:\", selected_features)"
   ]
  },
  {
   "cell_type": "code",
   "execution_count": 12,
   "id": "c71f3e90",
   "metadata": {},
   "outputs": [
    {
     "name": "stdout",
     "output_type": "stream",
     "text": [
      "Training Accuracy: 62.27%\n",
      "Test Accuracy: 62.16%\n",
      "              precision    recall  f1-score   support\n",
      "\n",
      " No Diabetes       0.97      0.59      0.73     40903\n",
      "    Diabetes       0.23      0.87      0.36      5689\n",
      "\n",
      "    accuracy                           0.62     46592\n",
      "   macro avg       0.60      0.73      0.55     46592\n",
      "weighted avg       0.88      0.62      0.69     46592\n",
      "\n"
     ]
    }
   ],
   "source": [
    "X_train_selected = selector.transform(x_train)\n",
    "X_test_selected = selector.transform(x_test)\n",
    "\n",
    "scaler = StandardScaler()\n",
    "\n",
    "scaler.fit(X_train_selected)\n",
    "x_train_scaler = scaler.transform(X_train_selected)\n",
    "x_test_scaler = scaler.transform(X_test_selected)\n",
    "\n",
    "\n",
    "model_selected_features = LogisticRegression(C=0.0001, penalty='l1', solver='liblinear',class_weight='balanced')\n",
    "model_selected_features.fit(x_train_scaler, y_train)\n",
    "\n",
    "y_train_pred = model_selected_features.predict(x_train_scaler)\n",
    "y_test_pred = model_selected_features.predict(x_test_scaler)\n",
    "\n",
    "\n",
    "train_accuracy = accuracy_score(y_train, y_train_pred) * 100\n",
    "test_accuracy = accuracy_score(y_test, y_test_pred) * 100\n",
    "\n",
    "print(f\"Training Accuracy: {train_accuracy:.2f}%\")\n",
    "print(f\"Test Accuracy: {test_accuracy:.2f}%\")\n",
    "print(classification_report(y_test, y_test_pred, target_names=['No Diabetes', 'Diabetes']))"
   ]
  }
 ],
 "metadata": {
  "kernelspec": {
   "display_name": "myenv",
   "language": "python",
   "name": "python3"
  },
  "language_info": {
   "codemirror_mode": {
    "name": "ipython",
    "version": 3
   },
   "file_extension": ".py",
   "mimetype": "text/x-python",
   "name": "python",
   "nbconvert_exporter": "python",
   "pygments_lexer": "ipython3",
   "version": "3.10.16"
  }
 },
 "nbformat": 4,
 "nbformat_minor": 5
}
